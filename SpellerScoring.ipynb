{
 "cells": [
  {
   "cell_type": "code",
   "execution_count": 1,
   "metadata": {
    "colab": {
     "base_uri": "https://localhost:8080/"
    },
    "executionInfo": {
     "elapsed": 31397,
     "status": "ok",
     "timestamp": 1750407403977,
     "user": {
      "displayName": "허도영",
      "userId": "17301497832346935124"
     },
     "user_tz": -540
    },
    "id": "W754b_CmULh2",
    "outputId": "cd0fc77d-b0ef-4226-f13c-7302831560d8"
   },
   "outputs": [
    {
     "name": "stdout",
     "output_type": "stream",
     "text": [
      "Collecting konlpy\n",
      "  Downloading konlpy-0.6.0-py2.py3-none-any.whl.metadata (1.9 kB)\n",
      "Collecting JPype1>=0.7.0 (from konlpy)\n",
      "  Downloading jpype1-1.5.2-cp311-cp311-manylinux_2_17_x86_64.manylinux2014_x86_64.whl.metadata (4.9 kB)\n",
      "Requirement already satisfied: lxml>=4.1.0 in /usr/local/lib/python3.11/dist-packages (from konlpy) (5.4.0)\n",
      "Requirement already satisfied: numpy>=1.6 in /usr/local/lib/python3.11/dist-packages (from konlpy) (2.0.2)\n",
      "Requirement already satisfied: packaging in /usr/local/lib/python3.11/dist-packages (from JPype1>=0.7.0->konlpy) (24.2)\n",
      "Downloading konlpy-0.6.0-py2.py3-none-any.whl (19.4 MB)\n",
      "\u001b[2K   \u001b[90m━━━━━━━━━━━━━━━━━━━━━━━━━━━━━━━━━━━━━━━━\u001b[0m \u001b[32m19.4/19.4 MB\u001b[0m \u001b[31m27.6 MB/s\u001b[0m eta \u001b[36m0:00:00\u001b[0m\n",
      "\u001b[?25hDownloading jpype1-1.5.2-cp311-cp311-manylinux_2_17_x86_64.manylinux2014_x86_64.whl (494 kB)\n",
      "\u001b[2K   \u001b[90m━━━━━━━━━━━━━━━━━━━━━━━━━━━━━━━━━━━━━━━━\u001b[0m \u001b[32m494.1/494.1 kB\u001b[0m \u001b[31m11.6 MB/s\u001b[0m eta \u001b[36m0:00:00\u001b[0m\n",
      "\u001b[?25hInstalling collected packages: JPype1, konlpy\n",
      "Successfully installed JPype1-1.5.2 konlpy-0.6.0\n",
      "Collecting python-mecab-ko\n",
      "  Downloading python_mecab_ko-1.3.7-cp311-cp311-manylinux_2_17_x86_64.manylinux2014_x86_64.whl.metadata (3.4 kB)\n",
      "Collecting python-mecab-ko-dic (from python-mecab-ko)\n",
      "  Downloading python_mecab_ko_dic-2.1.1.post2-py3-none-any.whl.metadata (1.4 kB)\n",
      "Downloading python_mecab_ko-1.3.7-cp311-cp311-manylinux_2_17_x86_64.manylinux2014_x86_64.whl (580 kB)\n",
      "\u001b[2K   \u001b[90m━━━━━━━━━━━━━━━━━━━━━━━━━━━━━━━━━━━━━━━━\u001b[0m \u001b[32m580.9/580.9 kB\u001b[0m \u001b[31m7.9 MB/s\u001b[0m eta \u001b[36m0:00:00\u001b[0m\n",
      "\u001b[?25hDownloading python_mecab_ko_dic-2.1.1.post2-py3-none-any.whl (34.5 MB)\n",
      "\u001b[2K   \u001b[90m━━━━━━━━━━━━━━━━━━━━━━━━━━━━━━━━━━━━━━━━\u001b[0m \u001b[32m34.5/34.5 MB\u001b[0m \u001b[31m20.4 MB/s\u001b[0m eta \u001b[36m0:00:00\u001b[0m\n",
      "\u001b[?25hInstalling collected packages: python-mecab-ko-dic, python-mecab-ko\n",
      "Successfully installed python-mecab-ko-1.3.7 python-mecab-ko-dic-2.1.1.post2\n"
     ]
    }
   ],
   "source": [
    "!pip install konlpy\n",
    "!pip install python-mecab-ko"
   ]
  },
  {
   "cell_type": "code",
   "execution_count": 11,
   "metadata": {
    "colab": {
     "base_uri": "https://localhost:8080/"
    },
    "executionInfo": {
     "elapsed": 9,
     "status": "ok",
     "timestamp": 1750410453198,
     "user": {
      "displayName": "허도영",
      "userId": "17301497832346935124"
     },
     "user_tz": -540
    },
    "id": "UOwPbHunWkdU",
    "outputId": "1c800b17-87d9-4f2e-eff9-da3e3e87ff46"
   },
   "outputs": [
    {
     "name": "stdout",
     "output_type": "stream",
     "text": [
      "Mecab not installed. Install MeCab in order to use it: http://konlpy.org/en/latest/install/\n"
     ]
    }
   ],
   "source": [
    "from konlpy.tag import Okt, Mecab\n",
    "from nltk.tokenize import WordPunctTokenizer\n",
    "\n",
    "# 선택지: 'Okt', 'Mecab', 'Whitespace', 'WordPunct'\n",
    "tokenizer_name = 'Okt'\n",
    "\n",
    "# 토크나이저 객체 준비\n",
    "okt = Okt()\n",
    "try:\n",
    "    mecabs = Mecab()\n",
    "    print('Mecab successfully loaded.')\n",
    "except Exception as e:\n",
    "    print('Mecab not installed.', e)\n",
    "\n",
    "wordpunct = WordPunctTokenizer()\n",
    "\n",
    "def tokenizer(sentence):\n",
    "    sentence = str(sentence)  # NaN 방지\n",
    "    if tokenizer_name == 'Okt':\n",
    "        return okt.morphs(sentence)\n",
    "    elif tokenizer_name == 'Mecab':\n",
    "        return mecabs.morphs(sentence)\n",
    "    elif tokenizer_name == 'Whitespace':\n",
    "        return sentence.split()\n",
    "    elif tokenizer_name == 'WordPunct':\n",
    "        return wordpunct.tokenize(sentence)\n",
    "    else:\n",
    "        raise ValueError(f\"지원하지 않는 토크나이저: {tokenizer_name}\")\n"
   ]
  },
  {
   "cell_type": "code",
   "execution_count": 21,
   "metadata": {
    "colab": {
     "base_uri": "https://localhost:8080/",
     "height": 913
    },
    "executionInfo": {
     "elapsed": 16155,
     "status": "ok",
     "timestamp": 1750412117258,
     "user": {
      "displayName": "허도영",
      "userId": "17301497832346935124"
     },
     "user_tz": -540
    },
    "id": "RpJGO9wDVU78",
    "outputId": "4c548109-cdc1-4c81-bb9e-641aac59ec70"
   },
   "outputs": [
    {
     "name": "stderr",
     "output_type": "stream",
     "text": [
      "100%|██████████| 250/250 [00:15<00:00, 15.92it/s]\n",
      "/tmp/ipython-input-21-3164213806.py:110: FutureWarning: \n",
      "\n",
      "The `ci` parameter is deprecated. Use `errorbar=None` for the same effect.\n",
      "\n",
      "  sns.barplot(x='Model', y='Mean', hue='Metric', data=subset_df, capsize=.03, errcolor='gray', ci=None)\n",
      "/tmp/ipython-input-21-3164213806.py:110: FutureWarning: \n",
      "\n",
      "The `errcolor` parameter is deprecated. And will be removed in v0.15.0. Pass `err_kws={'color': 'gray'}` instead.\n",
      "\n",
      "  sns.barplot(x='Model', y='Mean', hue='Metric', data=subset_df, capsize=.03, errcolor='gray', ci=None)\n"
     ]
    },
    {
     "name": "stdout",
     "output_type": "stream",
     "text": [
      "\n",
      "▶️ Precision / Recall / F0.5 Table\n",
      "Metric               F0.5      Precision         Recall\n",
      "Model                                                  \n",
      "BUSAN       0.773 (0.323)  0.921 (0.206)  0.744 (0.352)\n",
      "DAUM        0.689 (0.398)  0.977 (0.104)  0.611 (0.421)\n",
      "GPT         0.807 (0.338)  0.929 (0.212)  0.808 (0.333)\n",
      "Naver       0.757 (0.347)  0.967 (0.129)  0.675 (0.388)\n",
      "Sentencify  0.865 (0.257)  0.927 (0.212)  0.855 (0.273)\n",
      "\n",
      "▶️ BLEU / GLEU Table\n",
      "Metric               BLEU           GLEU\n",
      "Model                                   \n",
      "BUSAN       0.788 (0.221)  0.802 (0.203)\n",
      "DAUM        0.780 (0.226)  0.795 (0.206)\n",
      "GPT         0.804 (0.204)  0.815 (0.188)\n",
      "Naver       0.812 (0.211)  0.823 (0.195)\n",
      "Sentencify  0.836 (0.204)  0.846 (0.189)\n"
     ]
    },
    {
     "data": {
      "image/png": "[encoded data removed]",
      "text/plain": [
       "<Figure size 1400x700 with 1 Axes>"
      ]
     },
     "metadata": {},
     "output_type": "display_data"
    }
   ],
   "source": [
    "import pandas as pd\n",
    "import matplotlib.pyplot as plt\n",
    "import seaborn as sns\n",
    "from tqdm import tqdm\n",
    "from konlpy.tag import Okt\n",
    "from nltk.translate.bleu_score import sentence_bleu, SmoothingFunction\n",
    "from nltk.translate.gleu_score import sentence_gleu\n",
    "\n",
    "\n",
    "# BLEU, GLEU 계산\n",
    "def compute_scores(reference_sentence, hypothesis_sentence):\n",
    "    reference = [tokenizer(reference_sentence)]\n",
    "    hypothesis = tokenizer(hypothesis_sentence)\n",
    "    smoothie = SmoothingFunction().method4\n",
    "    bleu_score = sentence_bleu(reference, hypothesis, smoothing_function=smoothie)\n",
    "    gleu_score = sentence_gleu(reference, hypothesis)\n",
    "    return bleu_score, gleu_score\n",
    "\n",
    "# Precision, Recall, F0.5 계산\n",
    "def get_diff_indices(src_tokens, trg_tokens):\n",
    "    diff_indices = []\n",
    "    length = max(len(src_tokens), len(trg_tokens))\n",
    "    for i in range(length):\n",
    "        src_tok = src_tokens[i] if i < len(src_tokens) else None\n",
    "        trg_tok = trg_tokens[i] if i < len(trg_tokens) else None\n",
    "        if src_tok != trg_tok:\n",
    "            diff_indices.append(i)\n",
    "    return set(diff_indices)\n",
    "\n",
    "def compute_precision_recall_f05(src_sent, pred_sent, gold_sent, tokenizer):\n",
    "    src_tokens = tokenizer(src_sent)\n",
    "    pred_tokens = tokenizer(pred_sent)\n",
    "    gold_tokens = tokenizer(gold_sent)\n",
    "\n",
    "    pred_edit_indices = get_diff_indices(src_tokens, pred_tokens)\n",
    "    gold_error_indices = get_diff_indices(src_tokens, gold_tokens)\n",
    "\n",
    "    correct_indices = pred_edit_indices.intersection(gold_error_indices)\n",
    "\n",
    "    precision = len(correct_indices) / len(pred_edit_indices) if pred_edit_indices else 1.0\n",
    "    recall = len(correct_indices) / len(gold_error_indices) if gold_error_indices else 1.0\n",
    "\n",
    "    beta = 0.5\n",
    "    if precision + recall == 0:\n",
    "        f05 = 0.0\n",
    "    else:\n",
    "        f05 = (1 + beta ** 2) * precision * recall / ((beta ** 2) * precision + recall)\n",
    "\n",
    "    return precision, recall, f05\n",
    "\n",
    "# CSV 파일 읽기\n",
    "df = pd.read_csv('Testing_corrected_with_spell.csv')\n",
    "\n",
    "# 평가 대상 컬럼\n",
    "pred_columns = ['Sentencify', 'NAVER', 'DAUM', 'BUSAN', 'GPT']\n",
    "\n",
    "# 결과 저장용 딕셔너리\n",
    "results = {model: {'Precision': [], 'Recall': [], 'F0.5': [], 'BLEU': [], 'GLEU': []} for model in pred_columns}\n",
    "\n",
    "# 점수 계산\n",
    "for idx, row in tqdm(df.iterrows(), total=len(df)):\n",
    "    src = row['ko']\n",
    "    ans = row['corrected']\n",
    "    for model in pred_columns:\n",
    "        pred = row[model]\n",
    "\n",
    "        # Precision, Recall, F0.5\n",
    "        p, r, f05 = compute_precision_recall_f05(src, pred, ans, tokenizer)\n",
    "        results[model]['Precision'].append(p)\n",
    "        results[model]['Recall'].append(r)\n",
    "        results[model]['F0.5'].append(f05)\n",
    "\n",
    "        # BLEU, GLEU\n",
    "        bleu, gleu = compute_scores(ans, pred)\n",
    "        results[model]['BLEU'].append(bleu)\n",
    "        results[model]['GLEU'].append(gleu)\n",
    "\n",
    "# 통계 요약\n",
    "summary = {'Model': [], 'Metric': [], 'Mean': [], 'Std': []}\n",
    "for model in pred_columns:\n",
    "    for metric in ['Precision', 'Recall', 'F0.5', 'BLEU', 'GLEU']:\n",
    "        mean_score = sum(results[model][metric]) / len(results[model][metric])\n",
    "        std_score = pd.Series(results[model][metric]).std()\n",
    "        summary['Model'].append(model)\n",
    "        summary['Metric'].append(metric)\n",
    "        summary['Mean'].append(mean_score)\n",
    "        summary['Std'].append(std_score)\n",
    "\n",
    "summary_df = pd.DataFrame(summary)\n",
    "\n",
    "# Mean (Std) 포맷으로 표기\n",
    "summary_df['Formatted'] = summary_df.apply(lambda row: f\"{row['Mean']:.3f} ({row['Std']:.3f})\", axis=1)\n",
    "\n",
    "# Precision/Recall/F0.5 표\n",
    "prf_table = summary_df[summary_df['Metric'].isin(['Precision', 'Recall', 'F0.5'])]\n",
    "prf_pivot = prf_table.pivot(index='Model', columns='Metric', values='Formatted')\n",
    "print(\"\\n▶️ Precision / Recall / F0.5 Table\")\n",
    "print(prf_pivot)\n",
    "\n",
    "# BLEU/GLEU 표\n",
    "bleu_table = summary_df[summary_df['Metric'].isin(['BLEU', 'GLEU'])]\n",
    "bleu_pivot = bleu_table.pivot(index='Model', columns='Metric', values='Formatted')\n",
    "print(\"\\n▶️ BLEU / GLEU Table\")\n",
    "print(bleu_pivot)\n",
    "\n",
    "# 시각화 함수\n",
    "def plot_metrics(subset_metrics, title, legend_loc='upper right'):\n",
    "    plt.figure(figsize=(14, 7))\n",
    "    subset_df = summary_df[summary_df['Metric'].isin(subset_metrics)]\n",
    "    sns.barplot(x='Model', y='Mean', hue='Metric', data=subset_df, capsize=.03, errcolor='gray', ci=None)\n",
    "\n",
    "    plt.title(title)\n",
    "    plt.ylabel('Score')\n",
    "    plt.ylim(0.5, 0.9)\n",
    "    plt.legend(title='Metric', loc=legend_loc)\n",
    "    plt.xticks(rotation=45)\n",
    "    plt.tight_layout()\n",
    "    plt.show()\n",
    "\n",
    "# 그래프 그리기\n",
    "'''\n",
    "plot_metrics(['Precision', 'Recall', 'F0.5'], tokenizer_name + '-P/R/F0.5', legend_loc='upper right')\n",
    "plot_metrics(['BLEU', 'GLEU'], tokenizer_name + '-BLEU/GLEU', legend_loc='upper left')\n",
    "'''\n",
    "plot_metrics(['Recall','F0.5','BLEU','GLEU'], tokenizer_name + '-Evaluations', legend_loc='upper right')"
   ]
  }
 ],
 "metadata": {
  "colab": {
   "authorship_tag": "ABX9TyOWkLcmYZBoCLM/0QcPVsmC",
   "provenance": []
  },
  "kernelspec": {
   "display_name": "Python 3",
   "name": "python3"
  },
  "language_info": {
   "name": "python"
  }
 },
 "nbformat": 4,
 "nbformat_minor": 0
}
